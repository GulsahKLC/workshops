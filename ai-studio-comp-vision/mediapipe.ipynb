{
  "cells": [
    {
      "cell_type": "code",
      "execution_count": null,
      "metadata": {
        "id": "fXB09C62_QBz"
      },
      "outputs": [],
      "source": [
        "!pip install mediapipe"
      ]
    },
    {
      "cell_type": "code",
      "execution_count": null,
      "metadata": {
        "id": "vlU_tXeW_D4S"
      },
      "outputs": [],
      "source": [
        "import cv2\n",
        "import mediapipe as mp\n",
        "mp_face_detection = mp.solutions.face_detection\n",
        "mp_drawing = mp.solutions.drawing_utils\n",
        "\n",
        "# For static images:\n",
        "IMAGE_FILES = [\"test.jpg\"]\n",
        "with mp_face_detection.FaceDetection(\n",
        "    model_selection=1, min_detection_confidence=0.5) as face_detection:\n",
        "  for idx, file in enumerate(IMAGE_FILES):\n",
        "    image = cv2.imread(file)\n",
        "    # Convert the BGR image to RGB and process it with MediaPipe Face Detection.\n",
        "    results = face_detection.process(cv2.cvtColor(image, cv2.COLOR_BGR2RGB))\n",
        "\n",
        "    # Draw face detections of each face.\n",
        "    if not results.detections:\n",
        "      continue\n",
        "    annotated_image = image.copy()\n",
        "    for detection in results.detections:\n",
        "      print('Nose tip:')\n",
        "      print(mp_face_detection.get_key_point(\n",
        "          detection, mp_face_detection.FaceKeyPoint.NOSE_TIP))\n",
        "      mp_drawing.draw_detection(annotated_image, detection)\n",
        "    cv2.imwrite('test' + str(idx) + '.png', annotated_image)"
      ]
    },
    {
      "cell_type": "code",
      "execution_count": null,
      "metadata": {
        "id": "GpieTHTAFPy2"
      },
      "outputs": [],
      "source": []
    }
  ],
  "metadata": {
    "colab": {
      "provenance": []
    },
    "kernelspec": {
      "display_name": "Python 3",
      "name": "python3"
    },
    "language_info": {
      "name": "python"
    }
  },
  "nbformat": 4,
  "nbformat_minor": 0
}
